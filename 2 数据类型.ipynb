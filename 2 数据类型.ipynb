{
 "cells": [
  {
   "cell_type": "markdown",
   "metadata": {},
   "source": [
    "## 二、数据类型"
   ]
  },
  {
   "cell_type": "code",
   "execution_count": 12,
   "metadata": {},
   "outputs": [
    {
     "name": "stdout",
     "output_type": "stream",
     "text": [
      "I'm OK\n",
      "I'm \"OK\"\n"
     ]
    }
   ],
   "source": [
    "#''或\"\"括起来的是字符串，如果要输出'或者\"用转义字符\\\n",
    "print \"I'm OK\"\n",
    "print\"I'm \\\"OK\\\"\""
   ]
  },
  {
   "cell_type": "code",
   "execution_count": 13,
   "metadata": {},
   "outputs": [
    {
     "name": "stdout",
     "output_type": "stream",
     "text": [
      "I'm learning\n",
      "Python.\n",
      "\\\n",
      "\\\n",
      "\\\t\\\n",
      "\\\\\\t\\\\\n"
     ]
    }
   ],
   "source": [
    "#转义字符\\n,\\t,r''里面的字符不转义\n",
    "print 'I\\'m learning\\nPython.'\n",
    "print '\\\\\\n\\\\'\n",
    "print '\\\\\\t\\\\'\n",
    "print r'\\\\\\t\\\\'"
   ]
  },
  {
   "cell_type": "code",
   "execution_count": 14,
   "metadata": {},
   "outputs": [
    {
     "name": "stdout",
     "output_type": "stream",
     "text": [
      "line1\n",
      "line2\n",
      "line3\n"
     ]
    }
   ],
   "source": [
    "#Python允许用'''...'''的格式表示多行内容\n",
    "print '''line1\n",
    "line2\n",
    "line3'''"
   ]
  },
  {
   "cell_type": "code",
   "execution_count": 15,
   "metadata": {},
   "outputs": [
    {
     "name": "stdout",
     "output_type": "stream",
     "text": [
      "True\n",
      "False\n",
      "False\n",
      "True\n"
     ]
    }
   ],
   "source": [
    "#布尔值true、false\n",
    "print True\n",
    "print False\n",
    "print 2>3\n",
    "print 3<5"
   ]
  },
  {
   "cell_type": "code",
   "execution_count": 16,
   "metadata": {},
   "outputs": [
    {
     "name": "stdout",
     "output_type": "stream",
     "text": [
      "False\n",
      "True\n",
      "True\n"
     ]
    }
   ],
   "source": [
    "#布尔值可以用and、or和not运算\n",
    "print True and False\n",
    "print True or False\n",
    "print not False"
   ]
  },
  {
   "cell_type": "code",
   "execution_count": 17,
   "metadata": {},
   "outputs": [
    {
     "name": "stdout",
     "output_type": "stream",
     "text": [
      "(1, 'asm', True)\n"
     ]
    }
   ],
   "source": [
    "#变量名必须是大小写英文、数字和_的组合，且不能用数字开头,可以赋值数字，字符串，布尔值\n",
    "a=1\n",
    "t_007='asm'\n",
    "answer=True\n",
    "print(a,t_007,answer)"
   ]
  },
  {
   "cell_type": "code",
   "execution_count": 18,
   "metadata": {},
   "outputs": [
    {
     "name": "stdout",
     "output_type": "stream",
     "text": [
      "ABC\n"
     ]
    }
   ],
   "source": [
    "#python是动态语言，变量可以赋值不同变量类型\n",
    "a=1\n",
    "a='ABC'\n",
    "print a"
   ]
  },
  {
   "cell_type": "code",
   "execution_count": 19,
   "metadata": {},
   "outputs": [
    {
     "name": "stdout",
     "output_type": "stream",
     "text": [
      "65\n",
      "A\n"
     ]
    }
   ],
   "source": [
    "#Python提供了ord()和chr()函数，可以把字母和对应的数字相互转换\n",
    "print ord('A')\n",
    "print chr(65)"
   ]
  },
  {
   "cell_type": "code",
   "execution_count": 20,
   "metadata": {},
   "outputs": [
    {
     "name": "stdout",
     "output_type": "stream",
     "text": [
      "中文\n",
      "中\n"
     ]
    }
   ],
   "source": [
    "#写u'中'和u'\\u4e2d'是一样的，\\u后面是十六进制的Unicode码\n",
    "print u'中文'\n",
    "print u'\\u4e2d'"
   ]
  },
  {
   "cell_type": "code",
   "execution_count": 21,
   "metadata": {},
   "outputs": [
    {
     "name": "stdout",
     "output_type": "stream",
     "text": [
      "ABC\n",
      "中文\n"
     ]
    }
   ],
   "source": [
    "#把u'xxx'转换为UTF-8编码的'xxx'用encode('utf-8')方法\n",
    "print u'ABC'.encode('utf-8')\n",
    "print u'中文'.encode('utf-8')"
   ]
  },
  {
   "cell_type": "code",
   "execution_count": 22,
   "metadata": {},
   "outputs": [
    {
     "name": "stdout",
     "output_type": "stream",
     "text": [
      "3\n",
      "3\n",
      "2\n",
      "6\n"
     ]
    }
   ],
   "source": [
    "#英文字符转换后表示的UTF-8的值和Unicode值相等,而中文字符转换后1个Unicode字符将变为3个UTF-8字符\n",
    "print len('ABC')\n",
    "print len(u'ABC')\n",
    "print len(u'中文')\n",
    "print len('\\xe4\\xb8\\xad\\xe6\\x96\\x87')"
   ]
  },
  {
   "cell_type": "code",
   "execution_count": 23,
   "metadata": {},
   "outputs": [
    {
     "name": "stdout",
     "output_type": "stream",
     "text": [
      "abc\n",
      "中文\n"
     ]
    }
   ],
   "source": [
    "#把UTF-8编码表示的字符串'xxx'转换为Unicode字符串u'xxx'用decode('utf-8')方法\n",
    "print 'abc'.decode('utf-8')\n",
    "print  '\\xe4\\xb8\\xad\\xe6\\x96\\x87'.decode('utf-8')"
   ]
  },
  {
   "cell_type": "code",
   "execution_count": 24,
   "metadata": {},
   "outputs": [
    {
     "name": "stdout",
     "output_type": "stream",
     "text": [
      "Hello,world\n",
      "Hi, Michael, you have $1000000.\n"
     ]
    }
   ],
   "source": [
    "#输出格式化的字符串:\n",
    "print 'Hello,%s' % 'world'\n",
    "print  'Hi, %s, you have $%d.' % ('Michael', 1000000)"
   ]
  },
  {
   "cell_type": "code",
   "execution_count": 25,
   "metadata": {},
   "outputs": [
    {
     "name": "stdout",
     "output_type": "stream",
     "text": [
      " 3-01\n",
      "3.14\n"
     ]
    }
   ],
   "source": [
    "#其中，格式化整数和浮点数还可以指定是否补0和整数与小数的位数\n",
    "print '%2d-%02d' % (3,1)\n",
    "print '%.2f' % 3.1415926"
   ]
  },
  {
   "cell_type": "code",
   "execution_count": null,
   "metadata": {},
   "outputs": [],
   "source": []
  }
 ],
 "metadata": {
  "kernelspec": {
   "display_name": "Python 2",
   "language": "python",
   "name": "python2"
  },
  "language_info": {
   "codemirror_mode": {
    "name": "ipython",
    "version": 2
   },
   "file_extension": ".py",
   "mimetype": "text/x-python",
   "name": "python",
   "nbconvert_exporter": "python",
   "pygments_lexer": "ipython2",
   "version": "2.7.14"
  }
 },
 "nbformat": 4,
 "nbformat_minor": 2
}
